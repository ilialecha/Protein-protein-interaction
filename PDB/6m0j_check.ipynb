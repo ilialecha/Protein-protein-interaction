{
 "cells": [
  {
   "cell_type": "markdown",
   "metadata": {},
   "source": [
    "# Structure checking tutorial\n",
    "\n",
    "A complete checking analysis of a single structure follows.\n",
    "use .revert_changes() at any time to recover the original structure"
   ]
  },
  {
   "cell_type": "markdown",
   "metadata": {},
   "source": [
    "Structure checking is a key step before setting up a protein system for simulations. \n",
    "A number of normal issues found in structures at Protein Data Bank may compromise the success of the simulation, or may suggest that longer equilibration procedures are necessary.\n",
    "\n",
    "The biobb_structure_checking modules allow to \n",
    "- Do basic manipulations on structures (selection of models, chains, alternative locations\n",
    "- Detect and fix amide assignments, wrong chirality\n",
    "- Detect and fix protein backbone issues (missing fragments, and atoms, capping)\n",
    "- Detect and fix missing side-chain atoms\n",
    "- Add hydrogen atoms according to several criteria\n",
    "- Detect and classify clashes\n",
    "- Detect possible SS bonds\n",
    "\n",
    "biobb_structure_checking modules can used at the command line biobb_structure_checking/bin/check_structure\n"
   ]
  },
  {
   "cell_type": "code",
   "execution_count": 3,
   "metadata": {},
   "outputs": [
    {
     "name": "stdout",
     "output_type": "stream",
     "text": [
      "The autoreload extension is already loaded. To reload it, use:\n",
      "  %reload_ext autoreload\n"
     ]
    }
   ],
   "source": [
    "%load_ext autoreload\n",
    "%autoreload 2"
   ]
  },
  {
   "cell_type": "markdown",
   "metadata": {},
   "source": [
    "## Installation"
   ]
  },
  {
   "cell_type": "markdown",
   "metadata": {},
   "source": [
    "#### Basic imports and initialization"
   ]
  },
  {
   "cell_type": "code",
   "execution_count": 4,
   "metadata": {},
   "outputs": [],
   "source": [
    "import biobb_structure_checking\n",
    "import biobb_structure_checking.constants as cts\n",
    "from biobb_structure_checking.structure_checking import StructureChecking\n",
    "base_dir_path=biobb_structure_checking.__path__[0]\n",
    "args = cts.set_defaults(base_dir_path,{'notebook':True})\n"
   ]
  },
  {
   "cell_type": "markdown",
   "metadata": {},
   "source": [
    "## General help"
   ]
  },
  {
   "cell_type": "code",
   "execution_count": 23,
   "metadata": {},
   "outputs": [
    {
     "name": "stdout",
     "output_type": "stream",
     "text": [
      "\n",
      "BioBB's check_structure.py performs MDWeb structure checking set as a command line\n",
      "utility.\n",
      "\n",
      "commands:     Help on available commands\n",
      "command_list: Run all tests from conf file or command line list\n",
      "checkall:     Perform all checks without fixes\n",
      "load:         Stores structure on local cache and provides basic statistics\n",
      "\n",
      "1. System Configuration\n",
      "=======================\n",
      "sequences \n",
      "    Print canonical and structure sequences in FASTA format\n",
      "models [--select model_num] [--superimpose] [--save_split]\n",
      "    Detect/Select Models\n",
      "    --superimpose Superimposes currently selected models\n",
      "    --save_split Split models as separated output files. \n",
      "chains [--select chain_ids | molecule_type]\n",
      "    Detect/Select Chains\n",
      "inscodes \n",
      "    Detects residues with insertion codes. No fix provided (yet)\n",
      "altloc [--select occupancy| alt_id | list of res_id:alt_id]\n",
      "    Detect/Select Alternative Locations\n",
      "metals [--remove All | None | Met_ids_list | Residue_list]\n",
      "    Detect/Remove Metals\n",
      "ligands [--remove All | None | Res_type_list | Residue_list]\n",
      "    Detect/Remove Ligands\n",
      "getss      Detect SS Bonds\n",
      "    --mark Replace relevant CYS by CYX to mark SS Bond (HG atom removed if present)\n",
      "water [--remove Yes|No]\n",
      "    Remove Water molecules\n",
      "rem_hydrogen [--remove Yes|No]\n",
      "    Remove Hydrogen atoms from structure\n",
      "mutateside [--mut mutation_list|file:mutations_file] [--no_check_clashes]\n",
      "    Mutate side chain with minimal atom replacement. Allows multiple mutations.\n",
      "    mutation_list as file: accepts list of mutations in a external file\n",
      "    Check generated clashes except --no_check_clashes set\n",
      "    --rebuild Optimize side chains using Modeller. \n",
      "add_hydrogen [--add_mode auto | pH | list | interactive | interactive_his] [--no_fix_side] [--keep_h] [--add_charges FF]\n",
      "    Add Hydrogen Atoms. Auto: std changes at pH 7.0. His->Hie. pH: set pH value\n",
      "    list: Explicit list as [*:]HisXXHid, Interactive[_his]: Prompts for all selectable residues\n",
      "    Fixes missing side chain atoms unless --no_fix_side is set\n",
      "    Existing hydrogen atoms are removed before adding new ones unless --keep_h set.\n",
      "    --add_charges FF adds partial charges (from RES_LIBRARY) and atom types from FF forcefield. Output format taken from file extension or --output_format\n",
      "    Residue names are modified according to ionization state (e.g. HIS-> HIE, HID, HIP). Use --keep_canonical_resnames to avoid this behaviour\n",
      "2. Fix Structure Errors\n",
      "\n",
      "amide  [--fix All|None|Residue List] [--no_recheck]\n",
      "    Detect/Fix Amide atoms Assignment\n",
      "    Amide contacts are recheck unless --no_recheck\n",
      "chiral [--fix All|None|Residue List] [--no_check_clashes]\n",
      "    Detect/Fix Improper quirality\n",
      "    Checks generated clashes unless --no_check_clashes set\n",
      "fixside [--fix All |None|Residue List] [--no_check_clashes]\n",
      "    Complete side chains (heavy atoms, protein only)\n",
      "    Checks generated clashes unless --no_check_clashes set\n",
      "    --rebuild  Rebuild complete side chain using Modeller\n",
      "backbone [--fix_atoms All|None|Residue List]\n",
      "         [--fix_chain All|None|Break list] \n",
      "         [--add_caps All|None|Break list] \n",
      "         [--extra_gap]\n",
      "         [--no_recheck]\n",
      "         [--no_check_clashes]\n",
      "    Analyze main chain missing atoms and fragments (protein only).\n",
      "    --fix_atoms Missing O, OXT atoms can be fixed \n",
      "    --fix_chain Missing fragments filled using comparative modelling (Modeller License needed)\n",
      "    --add_caps Adds ACE and NME residues as necessary, preserving existing atoms\n",
      "    --extra_gap Recovers additional residues from model either side of the break, helps to fix loop connections (experimental)\n",
      "    Rechecks beckbone on each op unless --no_recheck is set.\n",
      "    Generated clashes are checked unless --no_check_clashes\n",
      "\n",
      "\n",
      "3. Structure Warnings (no fix)\n",
      "\n",
      "cistransbck Analyzes cis-trans dihedrals on backbone atoms\n",
      "clashes    Steric clashes (Severe, Apolar, Polar Donors, Polar Acceptors,\n",
      "           Ionic Positive, Ionic Negative)\n",
      "\n"
     ]
    }
   ],
   "source": [
    "with open(args['commands_help_path']) as help_file:\n",
    "    print(help_file.read())\n",
    "#TODO: prepare a specific help method\n",
    "# print_help(command)"
   ]
  },
  {
   "cell_type": "markdown",
   "metadata": {},
   "source": [
    "Set input (PDB or local file, pdb or mmCif formats allowed) and output (local file, pdb format).  \n",
    "Use pdb:pdbid for downloading structure from PDB (RCSB)"
   ]
  },
  {
   "cell_type": "code",
   "execution_count": 5,
   "metadata": {},
   "outputs": [],
   "source": [
    "base_path = '/home/ilia/Escritorio/Bioinformatics/1_Second_year/BioPhysics/Seminars/Project/PDB/'\n",
    "args['input_structure_path'] = base_path + '6m0j.pdb'\n",
    "args['output_format'] = 'pdb'\n",
    "args['output_structure_path'] = base_path + '6m0j_fixed.pdb'\n",
    "args['output_structure_path_charges'] = base_path + '6m0j_fixed.pdbqt'\n",
    "args['keep_canonical'] = False\n",
    "args['debug'] = False\n",
    "args['verbose'] = False"
   ]
  },
  {
   "cell_type": "markdown",
   "metadata": {},
   "source": [
    "Initializing checking engine, loading structure and showing statistics"
   ]
  },
  {
   "cell_type": "code",
   "execution_count": 6,
   "metadata": {},
   "outputs": [
    {
     "name": "stdout",
     "output_type": "stream",
     "text": [
      "Warning: sequence features only available in mmCIF format or with external fasta input\n",
      "Structure /home/ilia/Escritorio/Bioinformatics/1_Second_year/BioPhysics/Seminars/Project/PDB/6m0j.pdb loaded\n",
      " Title: crystal structure of sars-cov-2 spike receptor-binding domain bound with ace2\n",
      " Experimental method: x-ray diffraction\n",
      " Keywords: spike, receptor binding, viral protein-hydrolase complex\n",
      " Resolution (A): N.A.\n",
      "\n",
      " Num. models: 1\n",
      " Num. chains: 2 (A: Protein, E: Protein)\n",
      " Num. residues:  878\n",
      " Num. residues with ins. codes:  0\n",
      " Num. residues with H atoms: 0\n",
      " Num. HETATM residues:  87\n",
      " Num. ligands or modified residues:  7\n",
      " Num. water mol.:  80\n",
      " Num. atoms:  6558\n",
      "Metal/Ion residues found\n",
      " ZN A901\n",
      " CL A902\n",
      "Small mol ligands found\n",
      "NAG A903\n",
      "NAG A904\n",
      "NAG A905\n",
      "NAG A906\n",
      "NAG E601\n",
      "\n"
     ]
    }
   ],
   "source": [
    "\n",
    "st_c = StructureChecking(base_dir_path, args)\n"
   ]
  },
  {
   "cell_type": "markdown",
   "metadata": {},
   "source": [
    "#### models\n",
    "Checks for the presence of models in the structure. \n",
    "MD simulations require a single structure, although some structures (e.g. biounits) may be defined as a series of models, in such case all of them are usually required.  \n",
    "Use models('--select N') to select model num N for further analysis"
   ]
  },
  {
   "cell_type": "code",
   "execution_count": 7,
   "metadata": {},
   "outputs": [
    {
     "name": "stdout",
     "output_type": "stream",
     "text": [
      "Running models.\n",
      "1 Model(s) detected\n",
      "Single model found\n"
     ]
    }
   ],
   "source": [
    "st_c.models()"
   ]
  },
  {
   "cell_type": "markdown",
   "metadata": {},
   "source": [
    "#### chains\n",
    "Checks for chains (also obtained from print_stats), and allow to select one or more.   \n",
    "MD simulations are usually performed with complete structures. However input structure may contain several copies of the system, or contains additional chains like peptides or nucleic acids that may be removed. \n",
    "Use chains('X,Y') to select chain(s) X and Y to proceed"
   ]
  },
  {
   "cell_type": "code",
   "execution_count": 8,
   "metadata": {},
   "outputs": [
    {
     "name": "stdout",
     "output_type": "stream",
     "text": [
      "Running chains.\n",
      "2 Chain(s) detected\n",
      " A: Protein\n",
      " E: Protein\n"
     ]
    }
   ],
   "source": [
    "st_c.chains()\n"
   ]
  },
  {
   "cell_type": "markdown",
   "metadata": {},
   "source": [
    "#### altloc\n",
    "Checks for the presence of residues with alternative locations. Atoms with alternative coordinates and their occupancy are reported.  \n",
    "MD simulations requires a single position for each atom.  \n",
    "Use altloc('occupancy | alt_ids | list of res:id) to select the alternative\n"
   ]
  },
  {
   "cell_type": "code",
   "execution_count": 9,
   "metadata": {},
   "outputs": [
    {
     "name": "stdout",
     "output_type": "stream",
     "text": [
      "Running altloc.\n",
      "Detected 2 residues with alternative location labels\n",
      "HIS A228\n",
      "  CA   A (0.50) B (0.50)\n",
      "  CB   A (0.50) B (0.50)\n",
      "  CG   A (0.50) B (0.50)\n",
      "  ND1  A (0.50) B (0.50)\n",
      "  CD2  A (0.50) B (0.50)\n",
      "  CE1  A (0.50) B (0.50)\n",
      "  NE2  A (0.50) B (0.50)\n",
      "GLN E493\n",
      "  CA   A (0.50) B (0.50)\n",
      "  CB   A (0.50) B (0.50)\n",
      "  CG   A (0.50) B (0.50)\n",
      "  CD   A (0.50) B (0.50)\n",
      "  OE1  A (0.50) B (0.50)\n",
      "  NE2  A (0.50) B (0.50)\n"
     ]
    }
   ],
   "source": [
    "st_c.altloc()"
   ]
  },
  {
   "cell_type": "markdown",
   "metadata": {},
   "source": [
    "We need to choose one of the alternative forms for each residue"
   ]
  },
  {
   "cell_type": "code",
   "execution_count": 10,
   "metadata": {},
   "outputs": [
    {
     "name": "stdout",
     "output_type": "stream",
     "text": [
      "Running altloc. Options: occupancy\n",
      "Detected 2 residues with alternative location labels\n",
      "HIS A228\n",
      "  CA   A (0.50) B (0.50)\n",
      "  CB   A (0.50) B (0.50)\n",
      "  CG   A (0.50) B (0.50)\n",
      "  ND1  A (0.50) B (0.50)\n",
      "  CD2  A (0.50) B (0.50)\n",
      "  CE1  A (0.50) B (0.50)\n",
      "  NE2  A (0.50) B (0.50)\n",
      "GLN E493\n",
      "  CA   A (0.50) B (0.50)\n",
      "  CB   A (0.50) B (0.50)\n",
      "  CG   A (0.50) B (0.50)\n",
      "  CD   A (0.50) B (0.50)\n",
      "  OE1  A (0.50) B (0.50)\n",
      "  NE2  A (0.50) B (0.50)\n",
      "Selecting location occupancy\n"
     ]
    }
   ],
   "source": [
    "st_c.altloc('occupancy')"
   ]
  },
  {
   "cell_type": "code",
   "execution_count": 9,
   "metadata": {},
   "outputs": [
    {
     "name": "stdout",
     "output_type": "stream",
     "text": [
      "Running altloc.\n",
      "No residues with alternative location labels detected\n"
     ]
    }
   ],
   "source": [
    "st_c.altloc()"
   ]
  },
  {
   "cell_type": "markdown",
   "metadata": {},
   "source": [
    "#### metals\n",
    "Detects HETATM being metal ions allow to selectively remove them.  \n",
    "To remove use metals (' All | None | metal_type list | residue list ')"
   ]
  },
  {
   "cell_type": "code",
   "execution_count": 11,
   "metadata": {},
   "outputs": [
    {
     "name": "stdout",
     "output_type": "stream",
     "text": [
      "Running metals.\n",
      "1 Metal ions found\n",
      "  ZN A901.ZN \n"
     ]
    }
   ],
   "source": [
    "st_c.metals()"
   ]
  },
  {
   "cell_type": "markdown",
   "metadata": {},
   "source": [
    "#### ligands\n",
    "Detects HETATM (excluding Water molecules) to selectively remove them.  \n",
    "To remove use ligands('All | None | Residue List (by id, by num)')\n"
   ]
  },
  {
   "cell_type": "code",
   "execution_count": 12,
   "metadata": {},
   "outputs": [
    {
     "name": "stdout",
     "output_type": "stream",
     "text": [
      "Running ligands.\n",
      "7 Ligands detected\n",
      "  ZN A901\n",
      "  CL A902\n",
      " NAG A903\n",
      " NAG A904\n",
      " NAG A905\n",
      " NAG A906\n",
      " NAG E601\n"
     ]
    }
   ],
   "source": [
    "st_c.ligands()"
   ]
  },
  {
   "cell_type": "code",
   "execution_count": 13,
   "metadata": {},
   "outputs": [
    {
     "name": "stdout",
     "output_type": "stream",
     "text": [
      "Running ligands. Options: All\n",
      "7 Ligands detected\n",
      "  ZN A901\n",
      "  CL A902\n",
      " NAG A903\n",
      " NAG A904\n",
      " NAG A905\n",
      " NAG A906\n",
      " NAG E601\n",
      "Ligands removed All (7)\n"
     ]
    }
   ],
   "source": [
    "st_c.ligands('All')"
   ]
  },
  {
   "cell_type": "code",
   "execution_count": 14,
   "metadata": {},
   "outputs": [
    {
     "name": "stdout",
     "output_type": "stream",
     "text": [
      "Running ligands.\n",
      "No ligands found\n"
     ]
    }
   ],
   "source": [
    "st_c.ligands()"
   ]
  },
  {
   "cell_type": "markdown",
   "metadata": {},
   "source": [
    "#### rem_hydrogen\n",
    "Detects and remove hydrogen atoms. \n",
    "MD setup can be done with the original H atoms, however to prevent from non standard labelling, remove them is safer.  \n",
    "To remove use rem_hydrogen('yes')\n"
   ]
  },
  {
   "cell_type": "code",
   "execution_count": 15,
   "metadata": {},
   "outputs": [
    {
     "name": "stdout",
     "output_type": "stream",
     "text": [
      "Running rem_hydrogen.\n",
      "No residues with Hydrogen atoms found\n"
     ]
    }
   ],
   "source": [
    "st_c.rem_hydrogen()"
   ]
  },
  {
   "cell_type": "markdown",
   "metadata": {},
   "source": [
    "#### water\n",
    "Detects water molecules and allows to remove them\n",
    "Crystallographic water molecules may be relevant for keeping the structure, however in most cases only some of them are required. These can be later added using other methods (titration) or manually.\n",
    "\n",
    "To remove water molecules use water('yes')\n"
   ]
  },
  {
   "cell_type": "code",
   "execution_count": 16,
   "metadata": {},
   "outputs": [
    {
     "name": "stdout",
     "output_type": "stream",
     "text": [
      "Running water.\n",
      "80 Water molecules detected\n"
     ]
    }
   ],
   "source": [
    "st_c.water()"
   ]
  },
  {
   "cell_type": "code",
   "execution_count": 17,
   "metadata": {},
   "outputs": [
    {
     "name": "stdout",
     "output_type": "stream",
     "text": [
      "Running water. Options: yes\n",
      "80 Water molecules detected\n",
      "80 Water molecules removed\n"
     ]
    }
   ],
   "source": [
    "st_c.water(\"yes\")"
   ]
  },
  {
   "cell_type": "markdown",
   "metadata": {},
   "source": [
    "#### amide\n",
    "Amide terminal atoms in Asn ang Gln residues can be labelled incorrectly.  \n",
    "amide suggests possible fixes by checking the sourrounding environent.\n",
    "\n",
    "To fix use amide ('All | None | residue_list')\n",
    "\n",
    "Note that the inversion of amide atoms may trigger additional contacts. "
   ]
  },
  {
   "cell_type": "code",
   "execution_count": 18,
   "metadata": {},
   "outputs": [
    {
     "name": "stdout",
     "output_type": "stream",
     "text": [
      "Running amide.\n",
      "7 unusual contact(s) involving amide atoms found\n",
      " LYS A31.NZ   GLN E493.NE2    2.926 A\n",
      " GLN A42.NE2  GLN E498.NE2    2.927 A\n",
      " ASN A103.OD1 ASN A194.OD1    2.807 A\n",
      " ASN A134.OD1 GLU A140.OE2    2.785 A\n",
      " ASN A134.ND2 ASN A137.N      3.082 A\n",
      " GLU A150.O   ASN A154.OD1    2.895 A\n",
      " ARG E357.NH1 ASN E394.ND2    2.963 A\n"
     ]
    }
   ],
   "source": [
    "st_c.amide()"
   ]
  },
  {
   "cell_type": "markdown",
   "metadata": {},
   "source": [
    "Fix all amide residues and recheck"
   ]
  },
  {
   "cell_type": "code",
   "execution_count": 19,
   "metadata": {},
   "outputs": [
    {
     "name": "stdout",
     "output_type": "stream",
     "text": [
      "Running amide. Options: all\n",
      "7 unusual contact(s) involving amide atoms found\n",
      " LYS A31.NZ   GLN E493.NE2    2.926 A\n",
      " GLN A42.NE2  GLN E498.NE2    2.927 A\n",
      " ASN A103.OD1 ASN A194.OD1    2.807 A\n",
      " ASN A134.OD1 GLU A140.OE2    2.785 A\n",
      " ASN A134.ND2 ASN A137.N      3.082 A\n",
      " GLU A150.O   ASN A154.OD1    2.895 A\n",
      " ARG E357.NH1 ASN E394.ND2    2.963 A\n",
      "Amide residues fixed all (8)\n",
      "Rechecking\n",
      "4 unusual contact(s) involving amide atoms found\n",
      " GLN A42.OE1  GLN E498.OE1    2.927 A\n",
      " ASN A103.ND2 ASN A194.ND2    2.807 A\n",
      " ARG E357.NH1 ASN E394.ND2    3.022 A\n",
      " ASN E394.OD1 GLU E516.OE2    2.850 A\n"
     ]
    }
   ],
   "source": [
    "st_c.amide('all')"
   ]
  },
  {
   "cell_type": "markdown",
   "metadata": {},
   "source": [
    "Comparing both checks it becomes clear that GLN A42, GLN E498, ASN A103, and ASN A194 are getting new contacts as thay have both changed, ASN E394 is worse as it has now two contacts"
   ]
  },
  {
   "cell_type": "code",
   "execution_count": 20,
   "metadata": {},
   "outputs": [
    {
     "name": "stdout",
     "output_type": "stream",
     "text": [
      "Running amide. Options: A42,A103\n",
      "4 unusual contact(s) involving amide atoms found\n",
      " GLN A42.OE1  GLN E498.OE1    2.927 A\n",
      " ASN A103.ND2 ASN A194.ND2    2.807 A\n",
      " ARG E357.NH1 ASN E394.ND2    3.022 A\n",
      " ASN E394.OD1 GLU E516.OE2    2.850 A\n",
      "Amide residues fixed A42,A103 (2)\n",
      "Rechecking\n",
      "2 unusual contact(s) involving amide atoms found\n",
      " ARG E357.NH1 ASN E394.ND2    3.022 A\n",
      " ASN E394.OD1 GLU E516.OE2    2.850 A\n"
     ]
    }
   ],
   "source": [
    "st_c.amide('A42,A103')"
   ]
  },
  {
   "cell_type": "code",
   "execution_count": 21,
   "metadata": {},
   "outputs": [
    {
     "name": "stdout",
     "output_type": "stream",
     "text": [
      "Running amide. Options: E394\n",
      "2 unusual contact(s) involving amide atoms found\n",
      " ARG E357.NH1 ASN E394.ND2    3.022 A\n",
      " ASN E394.OD1 GLU E516.OE2    2.850 A\n",
      "Amide residues fixed E394 (1)\n",
      "Rechecking\n",
      "1 unusual contact(s) involving amide atoms found\n",
      " ARG E357.NH1 ASN E394.ND2    2.963 A\n"
     ]
    }
   ],
   "source": [
    "st_c.amide('E394')"
   ]
  },
  {
   "cell_type": "markdown",
   "metadata": {},
   "source": [
    "#### chiral\n",
    "Side chains of Thr and Ile are chiral, incorrect atom labelling lead to the wrong chirality.  \n",
    "To fix use chiral('All | None | residue_list')"
   ]
  },
  {
   "cell_type": "code",
   "execution_count": 22,
   "metadata": {},
   "outputs": [
    {
     "name": "stdout",
     "output_type": "stream",
     "text": [
      "Running chiral.\n",
      "No residues with incorrect side-chain chirality found\n"
     ]
    }
   ],
   "source": [
    "st_c.chiral()"
   ]
  },
  {
   "cell_type": "markdown",
   "metadata": {},
   "source": [
    "#### Backbone\n",
    "Detects and fixes several problems with the backbone\n",
    "use any of \n",
    "--fix_atoms All|None|Residue List \n",
    "--fix_chain All|None|Break list\n",
    "--add_caps All|None|Terms|Breaks|Residue list\n",
    "--no_recheck\n",
    "--no_check_clashes\n"
   ]
  },
  {
   "cell_type": "code",
   "execution_count": 23,
   "metadata": {
    "scrolled": false
   },
   "outputs": [
    {
     "name": "stdout",
     "output_type": "stream",
     "text": [
      "Running backbone.\n",
      "2 Residues with missing backbone atoms found\n",
      " ASP A615   OXT\n",
      " GLY E526   OXT\n",
      "No backbone breaks\n",
      "No unexpected backbone links\n"
     ]
    }
   ],
   "source": [
    "st_c.backbone()"
   ]
  },
  {
   "cell_type": "code",
   "execution_count": 24,
   "metadata": {},
   "outputs": [
    {
     "name": "stdout",
     "output_type": "stream",
     "text": [
      "Running backbone. Options: --fix_atoms All --fix_chain none --add_caps none\n",
      "2 Residues with missing backbone atoms found\n",
      " ASP A615   OXT\n",
      " GLY E526   OXT\n",
      "No backbone breaks\n",
      "No unexpected backbone links\n",
      "Capping terminal ends\n",
      "True terminal residues:  A19,A615,E333,E526\n",
      "No caps added\n",
      "Fixing missing backbone atoms\n",
      "Adding missing backbone atoms\n",
      "ASP A615\n",
      "  Adding new atom OXT\n",
      "GLY E526\n",
      "  Adding new atom OXT\n",
      "Fixed 2 backbone atom(s)\n",
      "Checking for steric clashes\n",
      "No severe clashes detected\n",
      "No apolar clashes detected\n",
      "No polar_acceptor clashes detected\n",
      "No polar_donor clashes detected\n",
      "No positive clashes detected\n",
      "No negative clashes detected\n"
     ]
    }
   ],
   "source": [
    "st_c.backbone('--fix_atoms All --fix_chain none --add_caps none')"
   ]
  },
  {
   "cell_type": "markdown",
   "metadata": {},
   "source": [
    "#### fixside\n",
    "Detects and re-built missing protein side chains.   \n",
    "To fix use fixside('All | None | residue_list')"
   ]
  },
  {
   "cell_type": "code",
   "execution_count": 24,
   "metadata": {},
   "outputs": [
    {
     "name": "stdout",
     "output_type": "stream",
     "text": [
      "Running fixside.\n",
      "No residues with missing or unknown side chain atoms found\n"
     ]
    }
   ],
   "source": [
    "st_c.fixside()"
   ]
  },
  {
   "cell_type": "markdown",
   "metadata": {},
   "source": [
    "#### getss\n",
    "Detects possible -S-S- bonds based on distance criteria.\n",
    "Proper simulation requires those bonds to be correctly set. Use All|None|residueList to mark them"
   ]
  },
  {
   "cell_type": "code",
   "execution_count": 25,
   "metadata": {},
   "outputs": [
    {
     "name": "stdout",
     "output_type": "stream",
     "text": [
      "Running getss.\n",
      "7 Possible SS Bonds detected\n",
      " CYS A133.SG  CYS A141.SG     4.237\n",
      " CYS A344.SG  CYS A361.SG     4.159\n",
      " CYS A530.SG  CYS A542.SG     4.095\n",
      " CYS E336.SG  CYS E361.SG     4.152\n",
      " CYS E379.SG  CYS E432.SG     4.177\n",
      " CYS E391.SG  CYS E525.SG     4.191\n",
      " CYS E480.SG  CYS E488.SG     4.269\n"
     ]
    }
   ],
   "source": [
    "st_c.getss()"
   ]
  },
  {
   "cell_type": "code",
   "execution_count": 26,
   "metadata": {},
   "outputs": [
    {
     "name": "stdout",
     "output_type": "stream",
     "text": [
      "Running getss. Options: all\n",
      "7 Possible SS Bonds detected\n",
      " CYS A133.SG  CYS A141.SG     4.237\n",
      " CYS A344.SG  CYS A361.SG     4.159\n",
      " CYS A530.SG  CYS A542.SG     4.095\n",
      " CYS E336.SG  CYS E361.SG     4.152\n",
      " CYS E379.SG  CYS E432.SG     4.177\n",
      " CYS E391.SG  CYS E525.SG     4.191\n",
      " CYS E480.SG  CYS E488.SG     4.269\n"
     ]
    }
   ],
   "source": [
    "st_c.getss('all')"
   ]
  },
  {
   "cell_type": "markdown",
   "metadata": {},
   "source": [
    "#### Add_hydrogens\n",
    " Add Hydrogen Atoms. Auto: std changes at pH 7.0. His->Hie. pH: set pH value\n",
    "    list: Explicit list as [*:]HisXXHid, Interactive[_his]: Prompts for all selectable residues\n",
    "    Fixes missing side chain atoms unless --no_fix_side is set\n",
    "    Existing hydrogen atoms are removed before adding new ones unless --keep_h set."
   ]
  },
  {
   "cell_type": "code",
   "execution_count": 28,
   "metadata": {},
   "outputs": [
    {
     "name": "stdout",
     "output_type": "stream",
     "text": [
      "Running add_hydrogen.\n",
      "226 Residues requiring selection on adding H atoms\n",
      " CYS A261,A498\n",
      " ASP A30,A38,A67,A111,A136,A157,A198,A201,A206,A213,A216,A225,A269,A292,A295,A299,A303,A335,A350,A355,A367,A368,A382,A427,A431,A471,A494,A499,A509,A543,A597,A609,A615,E364,E389,E398,E405,E420,E427,E428,E442,E467\n",
      " GLU A22,A23,A35,A37,A56,A57,A75,A87,A110,A140,A145,A150,A160,A166,A171,A181,A182,A189,A197,A208,A224,A227,A231,A232,A238,A310,A312,A329,A375,A398,A402,A406,A430,A433,A435,A457,A467,A479,A483,A489,A495,A527,A536,A549,A564,A571,A589,E340,E406,E465,E471,E484,E516\n",
      " HIS A34,A195,A228,A239,A241,A265,A345,A373,A374,A378,A401,A417,A493,A505,A535,A540,E519\n",
      " LYS A26,A31,A68,A74,A94,A112,A114,A131,A174,A187,A234,A247,A288,A309,A313,A341,A353,A363,A416,A419,A441,A458,A465,A470,A475,A476,A481,A534,A541,A553,A562,A577,A596,A600,E356,E378,E386,E417,E424,E444,E458,E462\n",
      " ARG A115,A161,A169,A177,A192,A204,A219,A245,A273,A306,A357,A393,A460,A482,A514,A518,A559,A582,E346,E355,E357,E403,E408,E454,E457,E466,E509\n",
      " TYR A41,A50,A83,A127,A158,A180,A183,A196,A199,A202,A207,A215,A217,A237,A243,A252,A255,A279,A381,A385,A454,A497,A510,A515,A516,A521,A587,A613,E351,E365,E369,E380,E396,E421,E423,E449,E451,E453,E473,E489,E495,E505,E508\n"
     ]
    }
   ],
   "source": [
    "st_c.add_hydrogen()"
   ]
  },
  {
   "cell_type": "code",
   "execution_count": 29,
   "metadata": {},
   "outputs": [
    {
     "name": "stdout",
     "output_type": "stream",
     "text": [
      "Running add_hydrogen. Options: auto\n",
      "226 Residues requiring selection on adding H atoms\n",
      " CYS A261,A498\n",
      " ASP A30,A38,A67,A111,A136,A157,A198,A201,A206,A213,A216,A225,A269,A292,A295,A299,A303,A335,A350,A355,A367,A368,A382,A427,A431,A471,A494,A499,A509,A543,A597,A609,A615,E364,E389,E398,E405,E420,E427,E428,E442,E467\n",
      " GLU A22,A23,A35,A37,A56,A57,A75,A87,A110,A140,A145,A150,A160,A166,A171,A181,A182,A189,A197,A208,A224,A227,A231,A232,A238,A310,A312,A329,A375,A398,A402,A406,A430,A433,A435,A457,A467,A479,A483,A489,A495,A527,A536,A549,A564,A571,A589,E340,E406,E465,E471,E484,E516\n",
      " HIS A34,A195,A228,A239,A241,A265,A345,A373,A374,A378,A401,A417,A493,A505,A535,A540,E519\n",
      " LYS A26,A31,A68,A74,A94,A112,A114,A131,A174,A187,A234,A247,A288,A309,A313,A341,A353,A363,A416,A419,A441,A458,A465,A470,A475,A476,A481,A534,A541,A553,A562,A577,A596,A600,E356,E378,E386,E417,E424,E444,E458,E462\n",
      " ARG A115,A161,A169,A177,A192,A204,A219,A245,A273,A306,A357,A393,A460,A482,A514,A518,A559,A582,E346,E355,E357,E403,E408,E454,E457,E466,E509\n",
      " TYR A41,A50,A83,A127,A158,A180,A183,A196,A199,A202,A207,A215,A217,A237,A243,A252,A255,A279,A381,A385,A454,A497,A510,A515,A516,A521,A587,A613,E351,E365,E369,E380,E396,E421,E423,E449,E451,E453,E473,E489,E495,E505,E508\n",
      "WARNING: fixing side chains, override with --no_fix_side\n",
      "Running fixside. Options: --fix all\n",
      "Warning: unknown residue CYX\n",
      "Warning: unknown residue CYX\n",
      "Warning: unknown residue CYX\n",
      "Warning: unknown residue CYX\n",
      "Warning: unknown residue CYX\n",
      "Warning: unknown residue CYX\n",
      "Warning: unknown residue CYX\n",
      "Warning: unknown residue CYX\n",
      "Warning: unknown residue CYX\n",
      "Warning: unknown residue CYX\n",
      "Warning: unknown residue CYX\n",
      "Warning: unknown residue CYX\n",
      "Warning: unknown residue CYX\n",
      "Warning: unknown residue CYX\n",
      "No residues with missing or unknown side chain atoms found\n",
      "Selection: auto\n",
      "Replacing HIS A34 by HIE\n",
      "Replacing HIS A195 by HIE\n",
      "Replacing HIS A228 by HIE\n",
      "Replacing HIS A239 by HIE\n",
      "Replacing HIS A241 by HIE\n",
      "Replacing HIS A265 by HIE\n",
      "Replacing HIS A345 by HIE\n",
      "Replacing HIS A373 by HIE\n",
      "Replacing HIS A374 by HIE\n",
      "Replacing HIS A378 by HIE\n",
      "Replacing HIS A401 by HIE\n",
      "Replacing HIS A417 by HIE\n",
      "Replacing HIS A493 by HIE\n",
      "Replacing HIS A505 by HIE\n",
      "Replacing HIS A535 by HIE\n",
      "Replacing HIS A540 by HIE\n",
      "Replacing HIS E519 by HIE\n"
     ]
    }
   ],
   "source": [
    "st_c.add_hydrogen('auto')"
   ]
  },
  {
   "cell_type": "markdown",
   "metadata": {},
   "source": [
    "#### clashes\n",
    "Detects steric clashes based on distance criteria.  \n",
    "Contacts are classified in: \n",
    "* Severe: Too close atoms, usually indicating superimposed structures or badly modelled regions. Should be fixed.\n",
    "* Apolar: Vdw colissions.Usually fixed during the simulation.\n",
    "* Polar and ionic. Usually indicate wrong side chain conformations. Usually fixed during the simulation\n"
   ]
  },
  {
   "cell_type": "code",
   "execution_count": 30,
   "metadata": {},
   "outputs": [
    {
     "name": "stdout",
     "output_type": "stream",
     "text": [
      "Running clashes.\n",
      "No severe clashes detected\n",
      "9 Steric apolar clashes detected\n",
      " HIE A34.CD2  TYR E453.OH     2.860 A\n",
      " ASN A53.CG   NAG A906.C1     2.486 A\n",
      " ASN A90.CG   NAG A904.C1     2.431 A\n",
      " ASN A121.O   THR A125.CG2    2.890 A\n",
      " ASN A322.CG  NAG A905.C1     2.433 A\n",
      " LEU A333.C   MET A360.O      2.881 A\n",
      " ASN A546.CG  NAG A903.C1     2.455 A\n",
      " ASN E343.CG  NAG E601.C1     2.478 A\n",
      " TYR E380.O   THR E430.C      2.758 A\n",
      "6 Steric polar_acceptor clashes detected\n",
      " MET A152.O   GLY A268.O      3.063 A\n",
      " LEU A333.O   MET A360.O      2.881 A\n",
      " TYR E351.O   ASP E467.O      3.074 A\n",
      " TYR E380.O   THR E430.O      2.728 A\n",
      " ASN E394.OD1 GLU E516.OE2    2.850 A\n",
      " GLY E485.O   CYX E488.O      3.046 A\n",
      "1 Steric polar_donor clashes detected\n",
      " ARG E357.NH1 ASN E394.ND2    3.022 A\n",
      "No positive clashes detected\n",
      "No negative clashes detected\n"
     ]
    }
   ],
   "source": [
    "st_c.clashes()"
   ]
  },
  {
   "cell_type": "markdown",
   "metadata": {},
   "source": [
    "Complete check in a single method"
   ]
  },
  {
   "cell_type": "code",
   "execution_count": 31,
   "metadata": {},
   "outputs": [
    {
     "name": "stdout",
     "output_type": "stream",
     "text": [
      "Running models.\n",
      "1 Model(s) detected\n",
      "Single model found\n",
      "Running chains.\n",
      "2 Chain(s) detected\n",
      " A: Protein\n",
      " E: Protein\n",
      "Running inscodes.\n",
      "No residues with insertion codes found\n",
      "Running altloc.\n",
      "No residues with alternative location labels detected\n",
      "Running rem_hydrogen.\n",
      "791 Residues containing H atoms detected\n",
      "Running add_hydrogen.\n",
      "209 Residues requiring selection on adding H atoms\n",
      " CYS A261,A498\n",
      " ASP A30,A38,A67,A111,A136,A157,A198,A201,A206,A213,A216,A225,A269,A292,A295,A299,A303,A335,A350,A355,A367,A368,A382,A427,A431,A471,A494,A499,A509,A543,A597,A609,A615,E364,E389,E398,E405,E420,E427,E428,E442,E467\n",
      " GLU A22,A23,A35,A37,A56,A57,A75,A87,A110,A140,A145,A150,A160,A166,A171,A181,A182,A189,A197,A208,A224,A227,A231,A232,A238,A310,A312,A329,A375,A398,A402,A406,A430,A433,A435,A457,A467,A479,A483,A489,A495,A527,A536,A549,A564,A571,A589,E340,E406,E465,E471,E484,E516\n",
      " LYS A26,A31,A68,A74,A94,A112,A114,A131,A174,A187,A234,A247,A288,A309,A313,A341,A353,A363,A416,A419,A441,A458,A465,A470,A475,A476,A481,A534,A541,A553,A562,A577,A596,A600,E356,E378,E386,E417,E424,E444,E458,E462\n",
      " ARG A115,A161,A169,A177,A192,A204,A219,A245,A273,A306,A357,A393,A460,A482,A514,A518,A559,A582,E346,E355,E357,E403,E408,E454,E457,E466,E509\n",
      " TYR A41,A50,A83,A127,A158,A180,A183,A196,A199,A202,A207,A215,A217,A237,A243,A252,A255,A279,A381,A385,A454,A497,A510,A515,A516,A521,A587,A613,E351,E365,E369,E380,E396,E421,E423,E449,E451,E453,E473,E489,E495,E505,E508\n",
      "Running water.\n",
      "No water molecules found\n",
      "Running metals.\n",
      "1 Metal ions found\n",
      "  ZN A901.ZN \n",
      "Running ligands.\n",
      "7 Ligands detected\n",
      "  ZN A901\n",
      "  CL A902\n",
      " NAG A903\n",
      " NAG A904\n",
      " NAG A905\n",
      " NAG A906\n",
      " NAG E601\n",
      "Running getss.\n",
      "7 Possible SS Bonds detected\n",
      " CYX A133.SG  CYX A141.SG     4.237\n",
      " CYX A344.SG  CYX A361.SG     4.159\n",
      " CYX A530.SG  CYX A542.SG     4.095\n",
      " CYX E336.SG  CYX E361.SG     4.152\n",
      " CYX E379.SG  CYX E432.SG     4.177\n",
      " CYX E391.SG  CYX E525.SG     4.191\n",
      " CYX E480.SG  CYX E488.SG     4.269\n",
      "Running amide.\n",
      "2 unusual contact(s) involving amide atoms found\n",
      " ARG E357.NH1 ASN E394.ND2    3.022 A\n",
      " ASN E394.OD1 GLU E516.OE2    2.850 A\n",
      "Running chiral.\n",
      "No residues with incorrect side-chain chirality found\n",
      "Running chiral_bck.\n",
      "No residues with incorrect backbone chirality found\n",
      "Running fixside.\n",
      "Warning: unknown residue NSER\n",
      "Warning: unknown residue HIE\n",
      "Warning: unknown residue CYX\n",
      "Warning: unknown residue CYX\n",
      "Warning: unknown residue HIE\n",
      "Warning: unknown residue HIE\n",
      "Warning: unknown residue HIE\n",
      "Warning: unknown residue HIE\n",
      "Warning: unknown residue HIE\n",
      "Warning: unknown residue CYX\n",
      "Warning: unknown residue HIE\n",
      "Warning: unknown residue CYX\n",
      "Warning: unknown residue HIE\n",
      "Warning: unknown residue HIE\n",
      "Warning: unknown residue HIE\n",
      "Warning: unknown residue HIE\n",
      "Warning: unknown residue HIE\n",
      "Warning: unknown residue HIE\n",
      "Warning: unknown residue HIE\n",
      "Warning: unknown residue CYX\n",
      "Warning: unknown residue HIE\n",
      "Warning: unknown residue HIE\n",
      "Warning: unknown residue CYX\n",
      "Warning: unknown residue NTHR\n",
      "Warning: unknown residue CYX\n",
      "Warning: unknown residue CYX\n",
      "Warning: unknown residue CYX\n",
      "Warning: unknown residue CYX\n",
      "Warning: unknown residue CYX\n",
      "Warning: unknown residue CYX\n",
      "Warning: unknown residue CYX\n",
      "Warning: unknown residue HIE\n",
      "Warning: unknown residue CYX\n",
      "No residues with missing or unknown side chain atoms found\n",
      "Running backbone.\n",
      "No residues with missing backbone atoms found\n",
      "No backbone breaks\n",
      "No unexpected backbone links\n",
      "Running cistransbck.\n",
      "1 cis peptide bonds\n",
      "GLU A145   PRO A146   Dihedral:   -4.808\n",
      "No trans peptide bonds with unusual omega dihedrals found\n",
      "Running clashes.\n",
      "No severe clashes detected\n",
      "9 Steric apolar clashes detected\n",
      " HIE A34.CD2  TYR E453.OH     2.860 A\n",
      " ASN A53.CG   NAG A906.C1     2.486 A\n",
      " ASN A90.CG   NAG A904.C1     2.431 A\n",
      " ASN A121.O   THR A125.CG2    2.890 A\n",
      " ASN A322.CG  NAG A905.C1     2.433 A\n",
      " LEU A333.C   MET A360.O      2.881 A\n",
      " ASN A546.CG  NAG A903.C1     2.455 A\n",
      " ASN E343.CG  NAG E601.C1     2.478 A\n",
      " TYR E380.O   THR E430.C      2.758 A\n",
      "6 Steric polar_acceptor clashes detected\n",
      " MET A152.O   GLY A268.O      3.063 A\n",
      " LEU A333.O   MET A360.O      2.881 A\n",
      " TYR E351.O   ASP E467.O      3.074 A\n",
      " TYR E380.O   THR E430.O      2.728 A\n",
      " ASN E394.OD1 GLU E516.OE2    2.850 A\n",
      " GLY E485.O   CYX E488.O      3.046 A\n",
      "1 Steric polar_donor clashes detected\n",
      " ARG E357.NH1 ASN E394.ND2    3.022 A\n",
      "No positive clashes detected\n",
      "No negative clashes detected\n",
      "Running sequences.\n",
      "Canonical Sequences requires either mmCIF input or --sequence\n",
      "Structure sequence\n",
      ">pdb_sq_A Frags: 19-132,134-140,142-343,345-360,362-529,531-541,543-615\n",
      "STIEEQAKTFLDKFNHEAEDLFYQSSLASWNYNTNITEENVQNMNNAGDKWSAFLKEQST\n",
      "LAQMYPLQEIQNLTVKLQLQALQQNGSSVLSEDKSKRLNTILNTMSTIYSTGKV-NPDNP\n",
      "QE-LLLEPGLNEIMANSLDYNERLWAWESWRSEVGKQLRPLYEEYVVLKNEMARANHYED\n",
      "YGDYWRGDYEVNGVDGYDYSRGQLIEDVEHTFEEIKPLYEHLHAYVRAKLMNAYPSYISP\n",
      "IGCLPAHLLGDMWGRFWTNLYSLTVPFGQKPNIDVTDAMVDQAWDAQRIFKEAEKFFVSV\n",
      "GLPNMTQGFWENSMLTDPGNVQKAV-HPTAWDLGKGDFRILM-TKVTMDDFLTAHHEMGH\n",
      "IQYDMAYAAQPFLLRNGANEGFHEAVGEIMSLSAATPKHLKSIGLLSPDFQEDNETEINF\n",
      "LLKQALTIVGTLPFTYMLEKWRWMVFKGEIPKDQWMKKWWEMKREIVGVVEPVPHDETYC\n",
      "DPASLFHVSNDYSFIRYYTRTLYQFQFQEAL-QAAKHEGPLHK-DISNSTEAGQKLFNML\n",
      "RLGKSEPWTLALENVVGAKNMNVRPLLNYFEPLFTWLKDQNKNSFVGWSTDWSPYAD\n",
      ">pdb_sq_E Frags: 333-335,337-360,362-378,380-390,392-431,433-479,481-487,489-524\n",
      "TNL-PFGEVFNATRFASVYAWNRKRISN-VADYSVLYNSASFSTFK-YGVSPTKLNDL-F\n",
      "TNVYADSFVIRGDEVRQIAPGQTGKIADYNYKLPDDFTG-VIAWNSNNLDSKVGGNYNYL\n",
      "YRLFRKSNLKPFERDISTEIYQAGSTP-NGVEGFN-YFPLQSYGFQPTNGVGYQPYRVVV\n",
      "LSFELLHAPATV\n",
      "\n"
     ]
    }
   ],
   "source": [
    "st_c.checkall()"
   ]
  },
  {
   "cell_type": "code",
   "execution_count": 32,
   "metadata": {},
   "outputs": [
    {
     "data": {
      "text/plain": [
       "'/home/ilia/Escritorio/Bioinformatics/1_Second_year/BioPhysics/Seminars/Project/Scripts/6m0j_fixed.pdb'"
      ]
     },
     "execution_count": 32,
     "metadata": {},
     "output_type": "execute_result"
    }
   ],
   "source": [
    "st_c._save_structure(args['output_structure_path'])"
   ]
  },
  {
   "cell_type": "code",
   "execution_count": 86,
   "metadata": {},
   "outputs": [
    {
     "name": "stdout",
     "output_type": "stream",
     "text": [
      "Running rem_hydrogen. Options: yes\n",
      "791 Residues containing H atoms detected\n",
      "Hydrogen atoms removed from 791 residues\n"
     ]
    }
   ],
   "source": [
    "st_c.rem_hydrogen('yes')"
   ]
  },
  {
   "cell_type": "code",
   "execution_count": 72,
   "metadata": {},
   "outputs": [
    {
     "name": "stdout",
     "output_type": "stream",
     "text": [
      "================================================================================\n",
      "=                   BioBB structure checking utility v3.10.1                   =\n",
      "=            P. Andrio, A. Hospital, G. Bayarri, J.L. Gelpi 2018-22            =\n",
      "================================================================================\n",
      "\n",
      "Warning: sequence features only available in mmCIF format or with external fasta input\n",
      "Structure /home/ilia/Escritorio/Bioinformatics/1_Second_year/BioPhysics/Seminars/Project/6m0j_fixed.pdb loaded\n",
      " Title: \n",
      " Experimental method: unknown\n",
      " Resolution (A): N.A.\n",
      "\n",
      " Num. models: 1\n",
      " Num. chains: 2 (A: Protein, E: Protein)\n",
      " Num. residues:  871\n",
      " Num. residues with ins. codes:  0\n",
      " Num. residues with H atoms: 791 (total 6102 H atoms)\n",
      " Num. HETATM residues:  80\n",
      " Num. ligands or modified residues:  0\n",
      " Num. water mol.:  80\n",
      " Num. atoms:  12590\n",
      "\n",
      "Running add_hydrogen. Options: --add_charges --add_mode auto\n",
      "240 Residues requiring selection on adding H atoms\n",
      " CYS A133,A141,A261,A344,A361,A498,A530,A542,E336,E361,E379,E391,E432,E480,E488,E525\n",
      " ASP A30,A38,A67,A111,A136,A157,A198,A201,A206,A213,A216,A225,A269,A292,A295,A299,A303,A335,A350,A355,A367,A368,A382,A427,A431,A471,A494,A499,A509,A543,A597,A609,A615,E364,E389,E398,E405,E420,E427,E428,E442,E467\n",
      " GLU A22,A23,A35,A37,A56,A57,A75,A87,A110,A140,A145,A150,A160,A166,A171,A181,A182,A189,A197,A208,A224,A227,A231,A232,A238,A310,A312,A329,A375,A398,A402,A406,A430,A433,A435,A457,A467,A479,A483,A489,A495,A527,A536,A549,A564,A571,A589,E340,E406,E465,E471,E484,E516\n",
      " HIS A34,A195,A228,A239,A241,A265,A345,A373,A374,A378,A401,A417,A493,A505,A535,A540,E519\n",
      " LYS A26,A31,A68,A74,A94,A112,A114,A131,A174,A187,A234,A247,A288,A309,A313,A341,A353,A363,A416,A419,A441,A458,A465,A470,A475,A476,A481,A534,A541,A553,A562,A577,A596,A600,E356,E378,E386,E417,E424,E444,E458,E462\n",
      " ARG A115,A161,A169,A177,A192,A204,A219,A245,A273,A306,A357,A393,A460,A482,A514,A518,A559,A582,E346,E355,E357,E403,E408,E454,E457,E466,E509\n",
      " TYR A41,A50,A83,A127,A158,A180,A183,A196,A199,A202,A207,A215,A217,A237,A243,A252,A255,A279,A381,A385,A454,A497,A510,A515,A516,A521,A587,A613,E351,E365,E369,E380,E396,E421,E423,E449,E451,E453,E473,E489,E495,E505,E508\n"
     ]
    },
    {
     "name": "stderr",
     "output_type": "stream",
     "text": [
      "usage: add_hydrogen [-h] [--add_mode ADD_MODE] [--pH PH] [--list LIST]\n",
      "                    [--no_fix_side] [--keep_h] [--add_charges ADD_CHARGES]\n",
      "add_hydrogen: error: argument --add_charges: expected one argument\n"
     ]
    },
    {
     "data": {
      "text/plain": [
       "512"
      ]
     },
     "execution_count": 72,
     "metadata": {},
     "output_type": "execute_result"
    }
   ],
   "source": [
    "#st_c.add_hydrogen('--add_charges --add_mode auto')\n",
    "#Alternative way calling through command line\n",
    "import os\n",
    "os.system('check_structure -i ' + args['output_structure_path'] + ' -o ' + args['output_structure_path_charges'] + ' add_hydrogen --add_charges --add_mode auto')"
   ]
  },
  {
   "cell_type": "code",
   "execution_count": 35,
   "metadata": {},
   "outputs": [
    {
     "data": {
      "text/plain": [
       "'/home/gelpi/DEVEL/BioPhysics/wdir/6m0j_fixed.pdbqt'"
      ]
     },
     "execution_count": 35,
     "metadata": {},
     "output_type": "execute_result"
    }
   ],
   "source": [
    "#st_c._save_structure(args['output_structure_path_charges'])"
   ]
  },
  {
   "cell_type": "code",
   "execution_count": 36,
   "metadata": {},
   "outputs": [],
   "source": [
    "#st_c.revert_changes()"
   ]
  },
  {
   "cell_type": "code",
   "execution_count": null,
   "metadata": {},
   "outputs": [],
   "source": []
  },
  {
   "cell_type": "code",
   "execution_count": null,
   "metadata": {},
   "outputs": [],
   "source": []
  }
 ],
 "metadata": {
  "kernelspec": {
   "display_name": "Python 3.10.6 64-bit",
   "language": "python",
   "name": "python3"
  },
  "language_info": {
   "codemirror_mode": {
    "name": "ipython",
    "version": 3
   },
   "file_extension": ".py",
   "mimetype": "text/x-python",
   "name": "python",
   "nbconvert_exporter": "python",
   "pygments_lexer": "ipython3",
   "version": "3.10.6"
  },
  "vscode": {
   "interpreter": {
    "hash": "916dbcbb3f70747c44a77c7bcd40155683ae19c65e1c03b4aa3499c5328201f1"
   }
  }
 },
 "nbformat": 4,
 "nbformat_minor": 2
}
